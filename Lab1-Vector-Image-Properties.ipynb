{
 "cells": [
  {
   "cell_type": "code",
   "execution_count": 1,
   "metadata": {},
   "outputs": [],
   "source": [
    "from imageio import imread\n",
    "from PIL import Image\n",
    "import imageio\n",
    "\n",
    "import matplotlib.pyplot as plt\n",
    "import numpy as np\n",
    "%matplotlib inline"
   ]
  },
  {
   "cell_type": "code",
   "execution_count": null,
   "metadata": {},
   "outputs": [],
   "source": [
    "'''\n",
    "255, 0, 0 #red\n",
    "0, 255, 0 #green\n",
    "0, 0, 255 #blue\n",
    "127, 127 ,127 #grey or custom color\n",
    "\n",
    "'''"
   ]
  },
  {
   "cell_type": "code",
   "execution_count": 4,
   "metadata": {},
   "outputs": [
    {
     "data": {
      "text/plain": [
       "<matplotlib.image.AxesImage at 0x1c406e7e988>"
      ]
     },
     "execution_count": 4,
     "metadata": {},
     "output_type": "execute_result"
    },
    {
     "data": {
      "image/png": "[encoded data removed]",
      "text/plain": [
       "<Figure size 432x288 with 1 Axes>"
      ]
     },
     "metadata": {
      "needs_background": "light"
     },
     "output_type": "display_data"
    }
   ],
   "source": [
    "# Understanding - RGB and Vector\n",
    "\n",
    "# Path\n",
    "\n",
    "color_red = [255, 0, 0]\n",
    "color_green = [0, 255, 0]\n",
    "color_blue = [0, 0, 255]\n",
    "color_custom = [33, 177 ,151]\n",
    "\n",
    "plt.imshow( np.array([\n",
    "      [color_red, color_green],\n",
    "      [color_blue, color_custom]              \n",
    "]))"
   ]
  },
  {
   "cell_type": "code",
   "execution_count": 10,
   "metadata": {},
   "outputs": [],
   "source": [
    "vector_img = np.array([\n",
    "      [color_red, color_green],\n",
    "      [color_blue, color_custom]              \n",
    "])"
   ]
  },
  {
   "cell_type": "code",
   "execution_count": 11,
   "metadata": {},
   "outputs": [
    {
     "data": {
      "text/plain": [
       "<matplotlib.image.AxesImage at 0x1c407434cc8>"
      ]
     },
     "execution_count": 11,
     "metadata": {},
     "output_type": "execute_result"
    },
    {
     "data": {
      "image/png": "[encoded data removed]",
      "text/plain": [
       "<Figure size 432x288 with 1 Axes>"
      ]
     },
     "metadata": {
      "needs_background": "light"
     },
     "output_type": "display_data"
    }
   ],
   "source": [
    "plt.imshow( vector_img)"
   ]
  },
  {
   "cell_type": "code",
   "execution_count": 12,
   "metadata": {},
   "outputs": [
    {
     "data": {
      "text/plain": [
       "array([[[255,   0,   0],\n",
       "        [  0, 255,   0]],\n",
       "\n",
       "       [[  0,   0, 255],\n",
       "        [ 33, 177, 151]]])"
      ]
     },
     "execution_count": 12,
     "metadata": {},
     "output_type": "execute_result"
    }
   ],
   "source": [
    "vector_img"
   ]
  },
  {
   "cell_type": "code",
   "execution_count": 13,
   "metadata": {},
   "outputs": [
    {
     "name": "stdout",
     "output_type": "stream",
     "text": [
      "Type of the image :  <class 'numpy.ndarray'>\n",
      "Shape of the image : (2, 2, 3)\n",
      "Image Hight 2\n",
      "Image Width 2\n",
      "Dimension of Image 3\n",
      "Image size 12\n",
      "Maximum RGB value in this image 255\n",
      "Minimum RGB value in this image 0\n"
     ]
    }
   ],
   "source": [
    "print('Type of the image : ' , type(vector_img))\n",
    "print('Shape of the image : {}'.format(vector_img.shape))\n",
    "print('Image Hight {}'.format(vector_img.shape[0]))\n",
    "print('Image Width {}'.format(vector_img.shape[1]))\n",
    "\n",
    "print('Dimension of Image {}'.format(vector_img.ndim))\n",
    "\n",
    "'''The first two numbers here are length and width, and the third number (i.e. 3) is for three layers: Red, Green, Blue. \n",
    "So, if we calculate the size of a RGB image, the total size will be counted as height x width x 3'''\n",
    "\n",
    "print('Image size {}'.format(vector_img.size))\n",
    "print('Maximum RGB value in this image {}'.format(vector_img.max()))\n",
    "print('Minimum RGB value in this image {}'.format(vector_img.min()))"
   ]
  },
  {
   "cell_type": "code",
   "execution_count": 5,
   "metadata": {},
   "outputs": [
    {
     "name": "stdout",
     "output_type": "stream",
     "text": [
      "(2, 2, 3)\n"
     ]
    },
    {
     "data": {
      "image/png": "[encoded data removed]",
      "text/plain": [
       "<Figure size 432x288 with 1 Axes>"
      ]
     },
     "metadata": {
      "needs_background": "light"
     },
     "output_type": "display_data"
    }
   ],
   "source": [
    "colors = [ [ [0,0,255], [0,255,0] ], \n",
    "          [ [255,0,0], [255,255,0] ]]\n",
    "\n",
    "print(np.array(colors).shape)\n",
    "plt.imshow(colors)\n",
    "start_row = 0\n",
    "\n",
    "#Matrice \n",
    "\n",
    "#Adding Label\n",
    "for row in colors:\n",
    "  start_col = -0.25\n",
    "  for color in row:\n",
    "    plt.text( start_col, start_row, str(color))\n",
    "    start_col +=1\n",
    "  start_row += 1"
   ]
  },
  {
   "cell_type": "code",
   "execution_count": 3,
   "metadata": {},
   "outputs": [
    {
     "data": {
      "text/plain": [
       "<matplotlib.image.AxesImage at 0x1c406e0d988>"
      ]
     },
     "execution_count": 3,
     "metadata": {},
     "output_type": "execute_result"
    },
    {
     "data": {
      "image/png": "[encoded data removed]",
      "text/plain": [
       "<Figure size 360x360 with 1 Axes>"
      ]
     },
     "metadata": {
      "needs_background": "light"
     },
     "output_type": "display_data"
    }
   ],
   "source": [
    "#Other samples\n",
    "\n",
    "width_, height_ = 512, 512\n",
    "data = np.zeros((height_, width_, 3), dtype=np.uint8)\n",
    "\n",
    "data[0:256, 0:256] = [255, 0, 0] # red patch in upper left\n",
    "\n",
    "img = Image.fromarray(data, 'RGB')\n",
    "plt.figure(figsize = (5,5))\n",
    "plt.imshow(img)\n",
    "\n",
    "To create a vector Image \n",
    "# img.save('my.png')\n",
    "# img.show()"
   ]
  },
  {
   "cell_type": "code",
   "execution_count": 19,
   "metadata": {},
   "outputs": [
    {
     "data": {
      "text/plain": [
       "<matplotlib.image.AxesImage at 0x1c407683cc8>"
      ]
     },
     "execution_count": 19,
     "metadata": {},
     "output_type": "execute_result"
    },
    {
     "data": {
      "image/png": "[encoded data removed]",
      "text/plain": [
       "<Figure size 432x288 with 1 Axes>"
      ]
     },
     "metadata": {
      "needs_background": "light"
     },
     "output_type": "display_data"
    }
   ],
   "source": [
    "# Another Example\n",
    "\n",
    "height_ =10\n",
    "width_ =10\n",
    "\n",
    "vector_colors = np.array(\n",
    "    np.array([\n",
    "              np.array([np.random.randint( 0,255,3) for x in range(width_)]) for x in range(height_)\n",
    "    ])\n",
    ")\n",
    "\n",
    "plt.imshow(vector_colors)"
   ]
  }
 ],
 "metadata": {
  "kernelspec": {
   "display_name": "Python 3",
   "language": "python",
   "name": "python3"
  },
  "language_info": {
   "codemirror_mode": {
    "name": "ipython",
    "version": 3
   },
   "file_extension": ".py",
   "mimetype": "text/x-python",
   "name": "python",
   "nbconvert_exporter": "python",
   "pygments_lexer": "ipython3",
   "version": "3.7.9"
  }
 },
 "nbformat": 4,
 "nbformat_minor": 2
}
